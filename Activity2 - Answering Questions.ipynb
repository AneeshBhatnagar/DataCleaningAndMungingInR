{
 "cells": [
  {
   "cell_type": "markdown",
   "metadata": {},
   "source": [
    "# Answering Questions Based on Extracted Data\n",
    "Each cell below answers one question from the given list. The question is displayed in that cell as well."
   ]
  },
  {
   "cell_type": "code",
   "execution_count": 11,
   "metadata": {
    "collapsed": false
   },
   "outputs": [],
   "source": [
    "library(dplyr)"
   ]
  },
  {
   "cell_type": "code",
   "execution_count": 2,
   "metadata": {
    "collapsed": true
   },
   "outputs": [],
   "source": [
    "players_file <- read.csv(\"player.csv\", header = T)\n",
    "teams_file <- read.csv(\"team.csv\", header = T)"
   ]
  },
  {
   "cell_type": "code",
   "execution_count": 3,
   "metadata": {
    "collapsed": false
   },
   "outputs": [
    {
     "name": "stdout",
     "output_type": "stream",
     "text": [
      "[1] \"Which are the top 10 players by overall rating?\"\n"
     ]
    },
    {
     "data": {
      "text/html": [
       "<table>\n",
       "<thead><tr><th scope=col>player_name</th><th scope=col>overall_rating</th></tr></thead>\n",
       "<tbody>\n",
       "\t<tr><td>Lionel Messi      </td><td>94                </td></tr>\n",
       "\t<tr><td>Cristiano Ronaldo </td><td>93                </td></tr>\n",
       "\t<tr><td>Manuel Neuer      </td><td>90                </td></tr>\n",
       "\t<tr><td>Luis Suarez       </td><td>90                </td></tr>\n",
       "\t<tr><td>Neymar            </td><td>90                </td></tr>\n",
       "\t<tr><td>Arjen Robben      </td><td>89                </td></tr>\n",
       "\t<tr><td>Zlatan Ibrahimovic</td><td>89                </td></tr>\n",
       "\t<tr><td>Thiago Silva      </td><td>88                </td></tr>\n",
       "\t<tr><td>Andres Iniesta    </td><td>88                </td></tr>\n",
       "\t<tr><td>Mesut Oezil       </td><td>88                </td></tr>\n",
       "</tbody>\n",
       "</table>\n"
      ],
      "text/latex": [
       "\\begin{tabular}{r|ll}\n",
       " player\\_name & overall\\_rating\\\\\n",
       "\\hline\n",
       "\t Lionel Messi       & 94                \\\\\n",
       "\t Cristiano Ronaldo  & 93                \\\\\n",
       "\t Manuel Neuer       & 90                \\\\\n",
       "\t Luis Suarez        & 90                \\\\\n",
       "\t Neymar             & 90                \\\\\n",
       "\t Arjen Robben       & 89                \\\\\n",
       "\t Zlatan Ibrahimovic & 89                \\\\\n",
       "\t Thiago Silva       & 88                \\\\\n",
       "\t Andres Iniesta     & 88                \\\\\n",
       "\t Mesut Oezil        & 88                \\\\\n",
       "\\end{tabular}\n"
      ],
      "text/markdown": [
       "\n",
       "player_name | overall_rating | \n",
       "|---|---|---|---|---|---|---|---|---|---|\n",
       "| Lionel Messi       | 94                 | \n",
       "| Cristiano Ronaldo  | 93                 | \n",
       "| Manuel Neuer       | 90                 | \n",
       "| Luis Suarez        | 90                 | \n",
       "| Neymar             | 90                 | \n",
       "| Arjen Robben       | 89                 | \n",
       "| Zlatan Ibrahimovic | 89                 | \n",
       "| Thiago Silva       | 88                 | \n",
       "| Andres Iniesta     | 88                 | \n",
       "| Mesut Oezil        | 88                 | \n",
       "\n",
       "\n"
      ],
      "text/plain": [
       "   player_name        overall_rating\n",
       "1  Lionel Messi       94            \n",
       "2  Cristiano Ronaldo  93            \n",
       "3  Manuel Neuer       90            \n",
       "4  Luis Suarez        90            \n",
       "5  Neymar             90            \n",
       "6  Arjen Robben       89            \n",
       "7  Zlatan Ibrahimovic 89            \n",
       "8  Thiago Silva       88            \n",
       "9  Andres Iniesta     88            \n",
       "10 Mesut Oezil        88            "
      ]
     },
     "metadata": {},
     "output_type": "display_data"
    }
   ],
   "source": [
    "print(\"Which are the top 10 players by overall rating?\")\n",
    "head(arrange(select(players_file, player_name, overall_rating), desc(overall_rating)), n=10)"
   ]
  },
  {
   "cell_type": "code",
   "execution_count": 4,
   "metadata": {
    "collapsed": false
   },
   "outputs": [
    {
     "name": "stdout",
     "output_type": "stream",
     "text": [
      "[1] \"Which are the top 10 goalkeepers by sum of gk attributes?\"\n"
     ]
    },
    {
     "data": {
      "text/html": [
       "<table>\n",
       "<thead><tr><th scope=col>player_name</th><th scope=col>gk_rating</th></tr></thead>\n",
       "<tbody>\n",
       "\t<tr><td>Manuel Neuer     </td><td>440              </td></tr>\n",
       "\t<tr><td>David De Gea     </td><td>429              </td></tr>\n",
       "\t<tr><td>Edwin van der Sar</td><td>422              </td></tr>\n",
       "\t<tr><td>Robert Enke,30   </td><td>421              </td></tr>\n",
       "\t<tr><td>Claudio Bravo    </td><td>416              </td></tr>\n",
       "\t<tr><td>Bernd Leno       </td><td>415              </td></tr>\n",
       "\t<tr><td>Petr Cech        </td><td>414              </td></tr>\n",
       "\t<tr><td>Thibaut Courtois </td><td>414              </td></tr>\n",
       "\t<tr><td>Joe Hart         </td><td>412              </td></tr>\n",
       "\t<tr><td>Yann Sommer      </td><td>411              </td></tr>\n",
       "</tbody>\n",
       "</table>\n"
      ],
      "text/latex": [
       "\\begin{tabular}{r|ll}\n",
       " player\\_name & gk\\_rating\\\\\n",
       "\\hline\n",
       "\t Manuel Neuer      & 440              \\\\\n",
       "\t David De Gea      & 429              \\\\\n",
       "\t Edwin van der Sar & 422              \\\\\n",
       "\t Robert Enke,30    & 421              \\\\\n",
       "\t Claudio Bravo     & 416              \\\\\n",
       "\t Bernd Leno        & 415              \\\\\n",
       "\t Petr Cech         & 414              \\\\\n",
       "\t Thibaut Courtois  & 414              \\\\\n",
       "\t Joe Hart          & 412              \\\\\n",
       "\t Yann Sommer       & 411              \\\\\n",
       "\\end{tabular}\n"
      ],
      "text/markdown": [
       "\n",
       "player_name | gk_rating | \n",
       "|---|---|---|---|---|---|---|---|---|---|\n",
       "| Manuel Neuer      | 440               | \n",
       "| David De Gea      | 429               | \n",
       "| Edwin van der Sar | 422               | \n",
       "| Robert Enke,30    | 421               | \n",
       "| Claudio Bravo     | 416               | \n",
       "| Bernd Leno        | 415               | \n",
       "| Petr Cech         | 414               | \n",
       "| Thibaut Courtois  | 414               | \n",
       "| Joe Hart          | 412               | \n",
       "| Yann Sommer       | 411               | \n",
       "\n",
       "\n"
      ],
      "text/plain": [
       "   player_name       gk_rating\n",
       "1  Manuel Neuer      440      \n",
       "2  David De Gea      429      \n",
       "3  Edwin van der Sar 422      \n",
       "4  Robert Enke,30    421      \n",
       "5  Claudio Bravo     416      \n",
       "6  Bernd Leno        415      \n",
       "7  Petr Cech         414      \n",
       "8  Thibaut Courtois  414      \n",
       "9  Joe Hart          412      \n",
       "10 Yann Sommer       411      "
      ]
     },
     "metadata": {},
     "output_type": "display_data"
    }
   ],
   "source": [
    "print(\"Which are the top 10 goalkeepers by sum of gk attributes?\")\n",
    "head(arrange(select(players_file, player_name, gk_rating), desc(gk_rating)), n=10)"
   ]
  },
  {
   "cell_type": "code",
   "execution_count": 5,
   "metadata": {
    "collapsed": false
   },
   "outputs": [
    {
     "name": "stdout",
     "output_type": "stream",
     "text": [
      "[1] \"Which are the top 10 players by number of appearances (with any team they played with)?\"\n"
     ]
    },
    {
     "data": {
      "text/html": [
       "<table>\n",
       "<thead><tr><th scope=col>player_name</th><th scope=col>appearance</th></tr></thead>\n",
       "<tbody>\n",
       "\t<tr><td>Steve Mandanda      </td><td>300                 </td></tr>\n",
       "\t<tr><td>Stephane Ruffier    </td><td>294                 </td></tr>\n",
       "\t<tr><td>Gorka Iraizoz Moreno</td><td>286                 </td></tr>\n",
       "\t<tr><td>Samir Handanovic    </td><td>286                 </td></tr>\n",
       "\t<tr><td>Hugo Lloris         </td><td>282                 </td></tr>\n",
       "\t<tr><td>Tim Howard          </td><td>282                 </td></tr>\n",
       "\t<tr><td>Joe Hart            </td><td>275                 </td></tr>\n",
       "\t<tr><td>Cedric Carrasso     </td><td>268                 </td></tr>\n",
       "\t<tr><td>Daniel Congre       </td><td>262                 </td></tr>\n",
       "\t<tr><td>Moussa Sissoko      </td><td>260                 </td></tr>\n",
       "</tbody>\n",
       "</table>\n"
      ],
      "text/latex": [
       "\\begin{tabular}{r|ll}\n",
       " player\\_name & appearance\\\\\n",
       "\\hline\n",
       "\t Steve Mandanda       & 300                 \\\\\n",
       "\t Stephane Ruffier     & 294                 \\\\\n",
       "\t Gorka Iraizoz Moreno & 286                 \\\\\n",
       "\t Samir Handanovic     & 286                 \\\\\n",
       "\t Hugo Lloris          & 282                 \\\\\n",
       "\t Tim Howard           & 282                 \\\\\n",
       "\t Joe Hart             & 275                 \\\\\n",
       "\t Cedric Carrasso      & 268                 \\\\\n",
       "\t Daniel Congre        & 262                 \\\\\n",
       "\t Moussa Sissoko       & 260                 \\\\\n",
       "\\end{tabular}\n"
      ],
      "text/markdown": [
       "\n",
       "player_name | appearance | \n",
       "|---|---|---|---|---|---|---|---|---|---|\n",
       "| Steve Mandanda       | 300                  | \n",
       "| Stephane Ruffier     | 294                  | \n",
       "| Gorka Iraizoz Moreno | 286                  | \n",
       "| Samir Handanovic     | 286                  | \n",
       "| Hugo Lloris          | 282                  | \n",
       "| Tim Howard           | 282                  | \n",
       "| Joe Hart             | 275                  | \n",
       "| Cedric Carrasso      | 268                  | \n",
       "| Daniel Congre        | 262                  | \n",
       "| Moussa Sissoko       | 260                  | \n",
       "\n",
       "\n"
      ],
      "text/plain": [
       "   player_name          appearance\n",
       "1  Steve Mandanda       300       \n",
       "2  Stephane Ruffier     294       \n",
       "3  Gorka Iraizoz Moreno 286       \n",
       "4  Samir Handanovic     286       \n",
       "5  Hugo Lloris          282       \n",
       "6  Tim Howard           282       \n",
       "7  Joe Hart             275       \n",
       "8  Cedric Carrasso      268       \n",
       "9  Daniel Congre        262       \n",
       "10 Moussa Sissoko       260       "
      ]
     },
     "metadata": {},
     "output_type": "display_data"
    }
   ],
   "source": [
    "print(\"Which are the top 10 players by number of appearances (with any team they played with)?\")\n",
    "head(arrange(select(players_file, player_name, appearance), desc(appearance)), n=10)"
   ]
  },
  {
   "cell_type": "code",
   "execution_count": 6,
   "metadata": {
    "collapsed": false
   },
   "outputs": [
    {
     "name": "stdout",
     "output_type": "stream",
     "text": [
      "[1] \"Which are the top 10 players by number of leagues they played in?\"\n"
     ]
    },
    {
     "data": {
      "text/html": [
       "<table>\n",
       "<thead><tr><th scope=col>player_name</th><th scope=col>leagues</th></tr></thead>\n",
       "<tbody>\n",
       "\t<tr><td>Gelson Fernandes     </td><td>6                    </td></tr>\n",
       "\t<tr><td>Filip Djuricic       </td><td>5                    </td></tr>\n",
       "\t<tr><td>Ricky van Wolfswinkel</td><td>5                    </td></tr>\n",
       "\t<tr><td>Maarten Stekelenburg </td><td>4                    </td></tr>\n",
       "\t<tr><td>Sergio Romero        </td><td>4                    </td></tr>\n",
       "\t<tr><td>Oguchi Onyewu        </td><td>4                    </td></tr>\n",
       "\t<tr><td>Rolando              </td><td>4                    </td></tr>\n",
       "\t<tr><td>Sebastien Pocognoli  </td><td>4                    </td></tr>\n",
       "\t<tr><td>Aly Cissokho         </td><td>4                    </td></tr>\n",
       "\t<tr><td>Xherdan Shaqiri      </td><td>4                    </td></tr>\n",
       "</tbody>\n",
       "</table>\n"
      ],
      "text/latex": [
       "\\begin{tabular}{r|ll}\n",
       " player\\_name & leagues\\\\\n",
       "\\hline\n",
       "\t Gelson Fernandes      & 6                    \\\\\n",
       "\t Filip Djuricic        & 5                    \\\\\n",
       "\t Ricky van Wolfswinkel & 5                    \\\\\n",
       "\t Maarten Stekelenburg  & 4                    \\\\\n",
       "\t Sergio Romero         & 4                    \\\\\n",
       "\t Oguchi Onyewu         & 4                    \\\\\n",
       "\t Rolando               & 4                    \\\\\n",
       "\t Sebastien Pocognoli   & 4                    \\\\\n",
       "\t Aly Cissokho          & 4                    \\\\\n",
       "\t Xherdan Shaqiri       & 4                    \\\\\n",
       "\\end{tabular}\n"
      ],
      "text/markdown": [
       "\n",
       "player_name | leagues | \n",
       "|---|---|---|---|---|---|---|---|---|---|\n",
       "| Gelson Fernandes      | 6                     | \n",
       "| Filip Djuricic        | 5                     | \n",
       "| Ricky van Wolfswinkel | 5                     | \n",
       "| Maarten Stekelenburg  | 4                     | \n",
       "| Sergio Romero         | 4                     | \n",
       "| Oguchi Onyewu         | 4                     | \n",
       "| Rolando               | 4                     | \n",
       "| Sebastien Pocognoli   | 4                     | \n",
       "| Aly Cissokho          | 4                     | \n",
       "| Xherdan Shaqiri       | 4                     | \n",
       "\n",
       "\n"
      ],
      "text/plain": [
       "   player_name           leagues\n",
       "1  Gelson Fernandes      6      \n",
       "2  Filip Djuricic        5      \n",
       "3  Ricky van Wolfswinkel 5      \n",
       "4  Maarten Stekelenburg  4      \n",
       "5  Sergio Romero         4      \n",
       "6  Oguchi Onyewu         4      \n",
       "7  Rolando               4      \n",
       "8  Sebastien Pocognoli   4      \n",
       "9  Aly Cissokho          4      \n",
       "10 Xherdan Shaqiri       4      "
      ]
     },
     "metadata": {},
     "output_type": "display_data"
    }
   ],
   "source": [
    "print(\"Which are the top 10 players by number of leagues they played in?\")\n",
    "head(arrange(select(players_file, player_name, leagues), desc(leagues)), n=10)"
   ]
  },
  {
   "cell_type": "code",
   "execution_count": 7,
   "metadata": {
    "collapsed": false
   },
   "outputs": [
    {
     "name": "stdout",
     "output_type": "stream",
     "text": [
      "[1] \"Which are the top 10 teams by sum of build up play attributes?\"\n"
     ]
    },
    {
     "data": {
      "text/html": [
       "<table>\n",
       "<thead><tr><th scope=col>team_long_name</th><th scope=col>buildUp</th></tr></thead>\n",
       "<tbody>\n",
       "\t<tr><td>Carpi                     </td><td>190                       </td></tr>\n",
       "\t<tr><td>Widzew Łódź               </td><td>190                       </td></tr>\n",
       "\t<tr><td>Widzew Łódź               </td><td>190                       </td></tr>\n",
       "\t<tr><td>FC Nantes                 </td><td>189                       </td></tr>\n",
       "\t<tr><td>Podbeskidzie Bielsko-Biała</td><td>189                       </td></tr>\n",
       "\t<tr><td>Lazio                     </td><td>188                       </td></tr>\n",
       "\t<tr><td>Chievo Verona             </td><td>187                       </td></tr>\n",
       "\t<tr><td>Blackburn Rovers          </td><td>185                       </td></tr>\n",
       "\t<tr><td>Udinese                   </td><td>185                       </td></tr>\n",
       "\t<tr><td>Genoa                     </td><td>184                       </td></tr>\n",
       "</tbody>\n",
       "</table>\n"
      ],
      "text/latex": [
       "\\begin{tabular}{r|ll}\n",
       " team\\_long\\_name & buildUp\\\\\n",
       "\\hline\n",
       "\t Carpi                      & 190                       \\\\\n",
       "\t Widzew Łódź                & 190                       \\\\\n",
       "\t Widzew Łódź                & 190                       \\\\\n",
       "\t FC Nantes                  & 189                       \\\\\n",
       "\t Podbeskidzie Bielsko-Biała & 189                       \\\\\n",
       "\t Lazio                      & 188                       \\\\\n",
       "\t Chievo Verona              & 187                       \\\\\n",
       "\t Blackburn Rovers           & 185                       \\\\\n",
       "\t Udinese                    & 185                       \\\\\n",
       "\t Genoa                      & 184                       \\\\\n",
       "\\end{tabular}\n"
      ],
      "text/markdown": [
       "\n",
       "team_long_name | buildUp | \n",
       "|---|---|---|---|---|---|---|---|---|---|\n",
       "| Carpi                      | 190                        | \n",
       "| Widzew Łódź                | 190                        | \n",
       "| Widzew Łódź                | 190                        | \n",
       "| FC Nantes                  | 189                        | \n",
       "| Podbeskidzie Bielsko-Biała | 189                        | \n",
       "| Lazio                      | 188                        | \n",
       "| Chievo Verona              | 187                        | \n",
       "| Blackburn Rovers           | 185                        | \n",
       "| Udinese                    | 185                        | \n",
       "| Genoa                      | 184                        | \n",
       "\n",
       "\n"
      ],
      "text/plain": [
       "   team_long_name             buildUp\n",
       "1  Carpi                      190    \n",
       "2  Widzew Łódź                190    \n",
       "3  Widzew Łódź                190    \n",
       "4  FC Nantes                  189    \n",
       "5  Podbeskidzie Bielsko-Biała 189    \n",
       "6  Lazio                      188    \n",
       "7  Chievo Verona              187    \n",
       "8  Blackburn Rovers           185    \n",
       "9  Udinese                    185    \n",
       "10 Genoa                      184    "
      ]
     },
     "metadata": {},
     "output_type": "display_data"
    }
   ],
   "source": [
    "print(\"Which are the top 10 teams by sum of build up play attributes?\")\n",
    "head(arrange(select(teams_file, team_long_name, buildUp), desc(buildUp)), n=10)"
   ]
  },
  {
   "cell_type": "code",
   "execution_count": 8,
   "metadata": {
    "collapsed": false
   },
   "outputs": [
    {
     "name": "stdout",
     "output_type": "stream",
     "text": [
      "[1] \"Which are the top 10 teams by sum of chance creation attributes?\"\n"
     ]
    },
    {
     "data": {
      "text/html": [
       "<table>\n",
       "<thead><tr><th scope=col>team_long_name</th><th scope=col>chanceCreation</th></tr></thead>\n",
       "<tbody>\n",
       "\t<tr><td>Lazio                 </td><td>220                   </td></tr>\n",
       "\t<tr><td>Birmingham City       </td><td>203                   </td></tr>\n",
       "\t<tr><td>Falkirk               </td><td>200                   </td></tr>\n",
       "\t<tr><td>Hamilton Academical FC</td><td>197                   </td></tr>\n",
       "\t<tr><td>Cagliari              </td><td>196                   </td></tr>\n",
       "\t<tr><td>Lech Poznań           </td><td>196                   </td></tr>\n",
       "\t<tr><td>Juventus              </td><td>195                   </td></tr>\n",
       "\t<tr><td>Bayer 04 Leverkusen   </td><td>192                   </td></tr>\n",
       "\t<tr><td>SV Werder Bremen      </td><td>192                   </td></tr>\n",
       "\t<tr><td>Roma                  </td><td>191                   </td></tr>\n",
       "</tbody>\n",
       "</table>\n"
      ],
      "text/latex": [
       "\\begin{tabular}{r|ll}\n",
       " team\\_long\\_name & chanceCreation\\\\\n",
       "\\hline\n",
       "\t Lazio                  & 220                   \\\\\n",
       "\t Birmingham City        & 203                   \\\\\n",
       "\t Falkirk                & 200                   \\\\\n",
       "\t Hamilton Academical FC & 197                   \\\\\n",
       "\t Cagliari               & 196                   \\\\\n",
       "\t Lech Poznań            & 196                   \\\\\n",
       "\t Juventus               & 195                   \\\\\n",
       "\t Bayer 04 Leverkusen    & 192                   \\\\\n",
       "\t SV Werder Bremen       & 192                   \\\\\n",
       "\t Roma                   & 191                   \\\\\n",
       "\\end{tabular}\n"
      ],
      "text/markdown": [
       "\n",
       "team_long_name | chanceCreation | \n",
       "|---|---|---|---|---|---|---|---|---|---|\n",
       "| Lazio                  | 220                    | \n",
       "| Birmingham City        | 203                    | \n",
       "| Falkirk                | 200                    | \n",
       "| Hamilton Academical FC | 197                    | \n",
       "| Cagliari               | 196                    | \n",
       "| Lech Poznań            | 196                    | \n",
       "| Juventus               | 195                    | \n",
       "| Bayer 04 Leverkusen    | 192                    | \n",
       "| SV Werder Bremen       | 192                    | \n",
       "| Roma                   | 191                    | \n",
       "\n",
       "\n"
      ],
      "text/plain": [
       "   team_long_name         chanceCreation\n",
       "1  Lazio                  220           \n",
       "2  Birmingham City        203           \n",
       "3  Falkirk                200           \n",
       "4  Hamilton Academical FC 197           \n",
       "5  Cagliari               196           \n",
       "6  Lech Poznań            196           \n",
       "7  Juventus               195           \n",
       "8  Bayer 04 Leverkusen    192           \n",
       "9  SV Werder Bremen       192           \n",
       "10 Roma                   191           "
      ]
     },
     "metadata": {},
     "output_type": "display_data"
    }
   ],
   "source": [
    "print(\"Which are the top 10 teams by sum of chance creation attributes?\")\n",
    "head(arrange(select(teams_file, team_long_name, chanceCreation), desc(chanceCreation)), n=10)"
   ]
  },
  {
   "cell_type": "code",
   "execution_count": 9,
   "metadata": {
    "collapsed": false
   },
   "outputs": [
    {
     "name": "stdout",
     "output_type": "stream",
     "text": [
      "[1] \"Which are the top 10 teams by sum of defense attributes?\"\n"
     ]
    },
    {
     "data": {
      "text/html": [
       "<table>\n",
       "<thead><tr><th scope=col>team_long_name</th><th scope=col>defense</th></tr></thead>\n",
       "<tbody>\n",
       "\t<tr><td>KSV Roeselare      </td><td>205                </td></tr>\n",
       "\t<tr><td>Odra Wodzisław     </td><td>205                </td></tr>\n",
       "\t<tr><td>Falkirk            </td><td>200                </td></tr>\n",
       "\t<tr><td>FC Barcelona       </td><td>191                </td></tr>\n",
       "\t<tr><td>Lazio              </td><td>190                </td></tr>\n",
       "\t<tr><td>Cagliari           </td><td>187                </td></tr>\n",
       "\t<tr><td>FC Bayern Munich   </td><td>184                </td></tr>\n",
       "\t<tr><td>Burnley            </td><td>183                </td></tr>\n",
       "\t<tr><td>Bayer 04 Leverkusen</td><td>183                </td></tr>\n",
       "\t<tr><td>SV Werder Bremen   </td><td>183                </td></tr>\n",
       "</tbody>\n",
       "</table>\n"
      ],
      "text/latex": [
       "\\begin{tabular}{r|ll}\n",
       " team\\_long\\_name & defense\\\\\n",
       "\\hline\n",
       "\t KSV Roeselare       & 205                \\\\\n",
       "\t Odra Wodzisław      & 205                \\\\\n",
       "\t Falkirk             & 200                \\\\\n",
       "\t FC Barcelona        & 191                \\\\\n",
       "\t Lazio               & 190                \\\\\n",
       "\t Cagliari            & 187                \\\\\n",
       "\t FC Bayern Munich    & 184                \\\\\n",
       "\t Burnley             & 183                \\\\\n",
       "\t Bayer 04 Leverkusen & 183                \\\\\n",
       "\t SV Werder Bremen    & 183                \\\\\n",
       "\\end{tabular}\n"
      ],
      "text/markdown": [
       "\n",
       "team_long_name | defense | \n",
       "|---|---|---|---|---|---|---|---|---|---|\n",
       "| KSV Roeselare       | 205                 | \n",
       "| Odra Wodzisław      | 205                 | \n",
       "| Falkirk             | 200                 | \n",
       "| FC Barcelona        | 191                 | \n",
       "| Lazio               | 190                 | \n",
       "| Cagliari            | 187                 | \n",
       "| FC Bayern Munich    | 184                 | \n",
       "| Burnley             | 183                 | \n",
       "| Bayer 04 Leverkusen | 183                 | \n",
       "| SV Werder Bremen    | 183                 | \n",
       "\n",
       "\n"
      ],
      "text/plain": [
       "   team_long_name      defense\n",
       "1  KSV Roeselare       205    \n",
       "2  Odra Wodzisław      205    \n",
       "3  Falkirk             200    \n",
       "4  FC Barcelona        191    \n",
       "5  Lazio               190    \n",
       "6  Cagliari            187    \n",
       "7  FC Bayern Munich    184    \n",
       "8  Burnley             183    \n",
       "9  Bayer 04 Leverkusen 183    \n",
       "10 SV Werder Bremen    183    "
      ]
     },
     "metadata": {},
     "output_type": "display_data"
    }
   ],
   "source": [
    "print(\"Which are the top 10 teams by sum of defense attributes?\")\n",
    "head(arrange(select(teams_file, team_long_name, defense), desc(defense)), n=10)"
   ]
  },
  {
   "cell_type": "code",
   "execution_count": 10,
   "metadata": {
    "collapsed": false
   },
   "outputs": [
    {
     "name": "stdout",
     "output_type": "stream",
     "text": [
      "[1] \"Which are the top 10 teams by number of scored goals?\"\n"
     ]
    },
    {
     "data": {
      "text/html": [
       "<table>\n",
       "<thead><tr><th scope=col>team_long_name</th><th scope=col>goals</th></tr></thead>\n",
       "<tbody>\n",
       "\t<tr><td>FC Barcelona     </td><td>849              </td></tr>\n",
       "\t<tr><td>Real Madrid CF   </td><td>843              </td></tr>\n",
       "\t<tr><td>Celtic           </td><td>695              </td></tr>\n",
       "\t<tr><td>FC Bayern Munich </td><td>653              </td></tr>\n",
       "\t<tr><td>PSV              </td><td>652              </td></tr>\n",
       "\t<tr><td>Ajax             </td><td>647              </td></tr>\n",
       "\t<tr><td>FC Basel         </td><td>619              </td></tr>\n",
       "\t<tr><td>Manchester City  </td><td>606              </td></tr>\n",
       "\t<tr><td>Chelsea          </td><td>583              </td></tr>\n",
       "\t<tr><td>Manchester United</td><td>582              </td></tr>\n",
       "</tbody>\n",
       "</table>\n"
      ],
      "text/latex": [
       "\\begin{tabular}{r|ll}\n",
       " team\\_long\\_name & goals\\\\\n",
       "\\hline\n",
       "\t FC Barcelona      & 849              \\\\\n",
       "\t Real Madrid CF    & 843              \\\\\n",
       "\t Celtic            & 695              \\\\\n",
       "\t FC Bayern Munich  & 653              \\\\\n",
       "\t PSV               & 652              \\\\\n",
       "\t Ajax              & 647              \\\\\n",
       "\t FC Basel          & 619              \\\\\n",
       "\t Manchester City   & 606              \\\\\n",
       "\t Chelsea           & 583              \\\\\n",
       "\t Manchester United & 582              \\\\\n",
       "\\end{tabular}\n"
      ],
      "text/markdown": [
       "\n",
       "team_long_name | goals | \n",
       "|---|---|---|---|---|---|---|---|---|---|\n",
       "| FC Barcelona      | 849               | \n",
       "| Real Madrid CF    | 843               | \n",
       "| Celtic            | 695               | \n",
       "| FC Bayern Munich  | 653               | \n",
       "| PSV               | 652               | \n",
       "| Ajax              | 647               | \n",
       "| FC Basel          | 619               | \n",
       "| Manchester City   | 606               | \n",
       "| Chelsea           | 583               | \n",
       "| Manchester United | 582               | \n",
       "\n",
       "\n"
      ],
      "text/plain": [
       "   team_long_name    goals\n",
       "1  FC Barcelona      849  \n",
       "2  Real Madrid CF    843  \n",
       "3  Celtic            695  \n",
       "4  FC Bayern Munich  653  \n",
       "5  PSV               652  \n",
       "6  Ajax              647  \n",
       "7  FC Basel          619  \n",
       "8  Manchester City   606  \n",
       "9  Chelsea           583  \n",
       "10 Manchester United 582  "
      ]
     },
     "metadata": {},
     "output_type": "display_data"
    }
   ],
   "source": [
    "print(\"Which are the top 10 teams by number of scored goals?\")\n",
    "head(arrange(select(teams_file, team_long_name, goals), desc(goals)), n=10)"
   ]
  }
 ],
 "metadata": {
  "kernelspec": {
   "display_name": "R",
   "language": "R",
   "name": "ir"
  },
  "language_info": {
   "codemirror_mode": "r",
   "file_extension": ".r",
   "mimetype": "text/x-r-source",
   "name": "R",
   "pygments_lexer": "r",
   "version": "3.3.2"
  }
 },
 "nbformat": 4,
 "nbformat_minor": 2
}
