{
 "cells": [
  {
   "cell_type": "markdown",
   "metadata": {},
   "source": [
    "# Understanding dplyr library in R\n",
    "This exercise is to understand the usage of different functions in the dplyr library in R using a dataset for NYC Flights. This data set is also imported as a library into the script and then made use of later"
   ]
  },
  {
   "cell_type": "code",
   "execution_count": 35,
   "metadata": {
    "collapsed": false
   },
   "outputs": [],
   "source": [
    "library(dplyr)\n",
    "library(nycflights13)"
   ]
  },
  {
   "cell_type": "markdown",
   "metadata": {},
   "source": [
    "# Connecting to the Database\n",
    "Connecting to a new database and creating if it does not exist. Then copying the flights table from the nycflights13 library into our newly created database using the copy_to function.\n",
    "* The data that is inserted into the database is also stored in a variable named flights_sqlite"
   ]
  },
  {
   "cell_type": "code",
   "execution_count": 2,
   "metadata": {
    "collapsed": true
   },
   "outputs": [],
   "source": [
    "my_db <- src_sqlite(\"flights.sqlite\", create = T)"
   ]
  },
  {
   "cell_type": "code",
   "execution_count": 3,
   "metadata": {
    "collapsed": false
   },
   "outputs": [],
   "source": [
    "flights_sqlite <- copy_to(my_db, flights, temporary = FALSE, indexes = list(c(\"year\",\"month\",\"day\"), \"carrier\", \"tailnum\"), )"
   ]
  },
  {
   "cell_type": "markdown",
   "metadata": {},
   "source": [
    "# Dispalying the Contents of the Flights Table"
   ]
  },
  {
   "cell_type": "code",
   "execution_count": 4,
   "metadata": {
    "collapsed": false
   },
   "outputs": [
    {
     "data": {
      "text/plain": [
       "Source:   query [?? x 19]\n",
       "Database: sqlite 3.11.1 [flights.sqlite]\n",
       "\n",
       "    year month   day dep_time sched_dep_time dep_delay arr_time sched_arr_time\n",
       "   <int> <int> <int>    <int>          <int>     <dbl>    <int>          <int>\n",
       "1   2013     1     1      517            515         2      830            819\n",
       "2   2013     1     1      533            529         4      850            830\n",
       "3   2013     1     1      542            540         2      923            850\n",
       "4   2013     1     1      544            545        -1     1004           1022\n",
       "5   2013     1     1      554            600        -6      812            837\n",
       "6   2013     1     1      554            558        -4      740            728\n",
       "7   2013     1     1      555            600        -5      913            854\n",
       "8   2013     1     1      557            600        -3      709            723\n",
       "9   2013     1     1      557            600        -3      838            846\n",
       "10  2013     1     1      558            600        -2      753            745\n",
       "# ... with more rows, and 11 more variables: arr_delay <dbl>, carrier <chr>,\n",
       "#   flight <int>, tailnum <chr>, origin <chr>, dest <chr>, air_time <dbl>,\n",
       "#   distance <dbl>, hour <dbl>, minute <dbl>, time_hour <dbl>"
      ]
     },
     "metadata": {},
     "output_type": "display_data"
    }
   ],
   "source": [
    "#Displaying the contents of the Flights Table\n",
    "tbl(src = my_db, sql(\"Select * from flights\"))"
   ]
  },
  {
   "cell_type": "markdown",
   "metadata": {},
   "source": [
    "# Displaying selected columns for all the flights\n",
    "This is done using the select function in dplyr. For this example, I am displaying the year, month, date, departure delay and the arrival delay for all the flights."
   ]
  },
  {
   "cell_type": "code",
   "execution_count": 5,
   "metadata": {
    "collapsed": false
   },
   "outputs": [
    {
     "data": {
      "text/plain": [
       "Source:   query [?? x 5]\n",
       "Database: sqlite 3.11.1 [flights.sqlite]\n",
       "\n",
       "    year month   day dep_delay arr_delay\n",
       "   <int> <int> <int>     <dbl>     <dbl>\n",
       "1   2013     1     1         2        11\n",
       "2   2013     1     1         4        20\n",
       "3   2013     1     1         2        33\n",
       "4   2013     1     1        -1       -18\n",
       "5   2013     1     1        -6       -25\n",
       "6   2013     1     1        -4        12\n",
       "7   2013     1     1        -5        19\n",
       "8   2013     1     1        -3       -14\n",
       "9   2013     1     1        -3        -8\n",
       "10  2013     1     1        -2         8\n",
       "# ... with more rows"
      ]
     },
     "metadata": {},
     "output_type": "display_data"
    }
   ],
   "source": [
    "select(flights_sqlite, year:day, dep_delay, arr_delay)"
   ]
  },
  {
   "cell_type": "markdown",
   "metadata": {},
   "source": [
    "# Filtering out Flights\n",
    "Using the filter function, I am selecting all the flights that have a departure delay of more than 240. This function is also available in the dplyr library."
   ]
  },
  {
   "cell_type": "code",
   "execution_count": 6,
   "metadata": {
    "collapsed": false,
    "scrolled": true
   },
   "outputs": [
    {
     "data": {
      "text/plain": [
       "Source:   query [?? x 19]\n",
       "Database: sqlite 3.11.1 [flights.sqlite]\n",
       "\n",
       "    year month   day dep_time sched_dep_time dep_delay arr_time sched_arr_time\n",
       "   <int> <int> <int>    <int>          <int>     <dbl>    <int>          <int>\n",
       "1   2013     1     1      848           1835       853     1001           1950\n",
       "2   2013     1     1     1815           1325       290     2120           1542\n",
       "3   2013     1     1     1842           1422       260     1958           1535\n",
       "4   2013     1     1     2115           1700       255     2330           1920\n",
       "5   2013     1     1     2205           1720       285       46           2040\n",
       "6   2013     1     1     2343           1724       379      314           1938\n",
       "7   2013     1     2     1332            904       268     1616           1128\n",
       "8   2013     1     2     1412            838       334     1710           1147\n",
       "9   2013     1     2     1607           1030       337     2003           1355\n",
       "10  2013     1     2     2131           1512       379     2340           1741\n",
       "# ... with more rows, and 11 more variables: arr_delay <dbl>, carrier <chr>,\n",
       "#   flight <int>, tailnum <chr>, origin <chr>, dest <chr>, air_time <dbl>,\n",
       "#   distance <dbl>, hour <dbl>, minute <dbl>, time_hour <dbl>"
      ]
     },
     "metadata": {},
     "output_type": "display_data"
    }
   ],
   "source": [
    "filter(flights_sqlite, dep_delay > 240)"
   ]
  },
  {
   "cell_type": "markdown",
   "metadata": {},
   "source": [
    "# Sorting Data\n",
    "Sorting the data is done using the arrange function. In this example, I am sorting them by year, then month in case of tie and then the day in case of a 2nd tie. It will sort them in a non-decreasing way which can be changed to decreasing by using the desc function on any parameter."
   ]
  },
  {
   "cell_type": "code",
   "execution_count": 7,
   "metadata": {
    "collapsed": false
   },
   "outputs": [
    {
     "data": {
      "text/plain": [
       "Source:   query [?? x 19]\n",
       "Database: sqlite 3.11.1 [flights.sqlite]\n",
       "\n",
       "    year month   day dep_time sched_dep_time dep_delay arr_time sched_arr_time\n",
       "   <int> <int> <int>    <int>          <int>     <dbl>    <int>          <int>\n",
       "1   2013     1     1      517            515         2      830            819\n",
       "2   2013     1     1      533            529         4      850            830\n",
       "3   2013     1     1      542            540         2      923            850\n",
       "4   2013     1     1      544            545        -1     1004           1022\n",
       "5   2013     1     1      554            600        -6      812            837\n",
       "6   2013     1     1      554            558        -4      740            728\n",
       "7   2013     1     1      555            600        -5      913            854\n",
       "8   2013     1     1      557            600        -3      709            723\n",
       "9   2013     1     1      557            600        -3      838            846\n",
       "10  2013     1     1      558            600        -2      753            745\n",
       "# ... with more rows, and 11 more variables: arr_delay <dbl>, carrier <chr>,\n",
       "#   flight <int>, tailnum <chr>, origin <chr>, dest <chr>, air_time <dbl>,\n",
       "#   distance <dbl>, hour <dbl>, minute <dbl>, time_hour <dbl>"
      ]
     },
     "metadata": {},
     "output_type": "display_data"
    }
   ],
   "source": [
    "arrange(flights_sqlite, year, month, day)"
   ]
  },
  {
   "cell_type": "markdown",
   "metadata": {},
   "source": [
    "## Sorting all data in descending order\n",
    "Soring all the data in descending order with the maximum departure delay first and then by the year, month and day if conflict arises."
   ]
  },
  {
   "cell_type": "code",
   "execution_count": 8,
   "metadata": {
    "collapsed": false
   },
   "outputs": [
    {
     "data": {
      "text/plain": [
       "Source:   query [?? x 19]\n",
       "Database: sqlite 3.11.1 [flights.sqlite]\n",
       "\n",
       "    year month   day dep_time sched_dep_time dep_delay arr_time sched_arr_time\n",
       "   <int> <int> <int>    <int>          <int>     <dbl>    <int>          <int>\n",
       "1   2013     1     9      641            900      1301     1242           1530\n",
       "2   2013     6    15     1432           1935      1137     1607           2120\n",
       "3   2013     1    10     1121           1635      1126     1239           1810\n",
       "4   2013     9    20     1139           1845      1014     1457           2210\n",
       "5   2013     7    22      845           1600      1005     1044           1815\n",
       "6   2013     4    10     1100           1900       960     1342           2211\n",
       "7   2013     3    17     2321            810       911      135           1020\n",
       "8   2013     6    27      959           1900       899     1236           2226\n",
       "9   2013     7    22     2257            759       898      121           1026\n",
       "10  2013    12     5      756           1700       896     1058           2020\n",
       "# ... with more rows, and 11 more variables: arr_delay <dbl>, carrier <chr>,\n",
       "#   flight <int>, tailnum <chr>, origin <chr>, dest <chr>, air_time <dbl>,\n",
       "#   distance <dbl>, hour <dbl>, minute <dbl>, time_hour <dbl>"
      ]
     },
     "metadata": {},
     "output_type": "display_data"
    }
   ],
   "source": [
    "arrange(flights_sqlite, desc(dep_delay), year, month, day)"
   ]
  },
  {
   "cell_type": "markdown",
   "metadata": {},
   "source": [
    "# Generating More Data\n",
    "Generating more data (meta-data) from already existing data is done using the mutate function in dplyr. We can simply refer to existing colums and create new columns by operating on those existing colums. In this example, I have calculated the speed of the aircraft using the distance and the air time columns in the same table.\n",
    "\n",
    "After that, I have displayed the speed using the select function, as described above."
   ]
  },
  {
   "cell_type": "code",
   "execution_count": 9,
   "metadata": {
    "collapsed": false
   },
   "outputs": [],
   "source": [
    "updated_flights <- mutate(flights_sqlite, speed=distance/air_time)"
   ]
  },
  {
   "cell_type": "code",
   "execution_count": 10,
   "metadata": {
    "collapsed": false
   },
   "outputs": [
    {
     "data": {
      "text/plain": [
       "Source:   query [?? x 1]\n",
       "Database: sqlite 3.11.1 [flights.sqlite]\n",
       "\n",
       "      speed\n",
       "      <dbl>\n",
       "1  6.167401\n",
       "2  6.237885\n",
       "3  6.806250\n",
       "4  8.612022\n",
       "5  6.568966\n",
       "6  4.793333\n",
       "7  6.740506\n",
       "8  4.320755\n",
       "9  6.742857\n",
       "10 5.311594\n",
       "# ... with more rows"
      ]
     },
     "metadata": {},
     "output_type": "display_data"
    }
   ],
   "source": [
    "select(updated_flights, speed)"
   ]
  },
  {
   "cell_type": "markdown",
   "metadata": {},
   "source": [
    "# Summary of Data\n",
    "Summarising data to get some results is another great aspect of dplyr library. In the example below, I have calculated the average speed and the average air time of all the flights in the database and displayed them."
   ]
  },
  {
   "cell_type": "code",
   "execution_count": 11,
   "metadata": {
    "collapsed": false
   },
   "outputs": [
    {
     "data": {
      "text/plain": [
       "Source:   query [?? x 2]\n",
       "Database: sqlite 3.11.1 [flights.sqlite]\n",
       "\n",
       "  avg_speed avg_airtime\n",
       "      <dbl>       <dbl>\n",
       "1  6.571228    150.6865"
      ]
     },
     "metadata": {},
     "output_type": "display_data"
    }
   ],
   "source": [
    "summarise(updated_flights, avg_speed = mean(speed), avg_airtime = mean(air_time))"
   ]
  },
  {
   "cell_type": "markdown",
   "metadata": {},
   "source": [
    "# Understanding Laziness of dplyr\n",
    "dplr is a very lazy library and does not touch the database unless it is forced to. For example, as shown below, it will not manipulate the data on the database and will just display the top 10 results that is has in memory. Whenever we query it to display the date, it will just show the top 10 results and mention more results are available. "
   ]
  },
  {
   "cell_type": "code",
   "execution_count": 12,
   "metadata": {
    "collapsed": false
   },
   "outputs": [],
   "source": [
    "c1 <- filter(flights_sqlite, year == 2013, month == 1, day == 1)\n",
    "c2 <- select(c1, year, month, day, carrier, dep_delay, air_time, distance)\n",
    "c3 <- mutate(c2, speed = distance / air_time * 60)\n",
    "c4 <- arrange(c3, desc(speed), year, month, day, carrier)"
   ]
  },
  {
   "cell_type": "code",
   "execution_count": 13,
   "metadata": {
    "collapsed": false
   },
   "outputs": [
    {
     "data": {
      "text/plain": [
       "Source:   query [?? x 8]\n",
       "Database: sqlite 3.11.1 [flights.sqlite]\n",
       "\n",
       "    year month   day carrier dep_delay air_time distance    speed\n",
       "   <int> <int> <int>   <chr>     <dbl>    <dbl>    <dbl>    <dbl>\n",
       "1   2013     1     1      AA        59      184     1623 529.2391\n",
       "2   2013     1     1      B6         0      182     1598 526.8132\n",
       "3   2013     1     1      DL         0      182     1598 526.8132\n",
       "4   2013     1     1      B6        91      183     1598 523.9344\n",
       "5   2013     1     1      UA        -5      189     1634 518.7302\n",
       "6   2013     1     1      B6        -6      185     1598 518.2703\n",
       "7   2013     1     1      B6        -1      183     1576 516.7213\n",
       "8   2013     1     1      UA         3      187     1608 515.9358\n",
       "9   2013     1     1      UA         1      188     1608 513.1915\n",
       "10  2013     1     1      AA        -5      188     1598 510.0000\n",
       "# ... with more rows"
      ]
     },
     "metadata": {},
     "output_type": "display_data"
    }
   ],
   "source": [
    "c4"
   ]
  },
  {
   "cell_type": "markdown",
   "metadata": {},
   "source": [
    "## Forcing dplyr to fetch all the data\n",
    "Using the collect function, we can force the library to fetch the entire data and show as a table/data frame. When we execute this function, that is when the library actually fetches the data from the database and displays to us."
   ]
  },
  {
   "cell_type": "code",
   "execution_count": 14,
   "metadata": {
    "collapsed": false
   },
   "outputs": [
    {
     "data": {
      "text/html": [
       "<table>\n",
       "<thead><tr><th scope=col>year</th><th scope=col>month</th><th scope=col>day</th><th scope=col>carrier</th><th scope=col>dep_delay</th><th scope=col>air_time</th><th scope=col>distance</th><th scope=col>speed</th></tr></thead>\n",
       "<tbody>\n",
       "\t<tr><td>2013    </td><td>1       </td><td>1       </td><td>AA      </td><td> 59     </td><td>184     </td><td>1623    </td><td>529.2391</td></tr>\n",
       "\t<tr><td>2013    </td><td>1       </td><td>1       </td><td>B6      </td><td>  0     </td><td>182     </td><td>1598    </td><td>526.8132</td></tr>\n",
       "\t<tr><td>2013    </td><td>1       </td><td>1       </td><td>DL      </td><td>  0     </td><td>182     </td><td>1598    </td><td>526.8132</td></tr>\n",
       "\t<tr><td>2013    </td><td>1       </td><td>1       </td><td>B6      </td><td> 91     </td><td>183     </td><td>1598    </td><td>523.9344</td></tr>\n",
       "\t<tr><td>2013    </td><td>1       </td><td>1       </td><td>UA      </td><td> -5     </td><td>189     </td><td>1634    </td><td>518.7302</td></tr>\n",
       "\t<tr><td>2013    </td><td>1       </td><td>1       </td><td>B6      </td><td> -6     </td><td>185     </td><td>1598    </td><td>518.2703</td></tr>\n",
       "\t<tr><td>2013    </td><td>1       </td><td>1       </td><td>B6      </td><td> -1     </td><td>183     </td><td>1576    </td><td>516.7213</td></tr>\n",
       "\t<tr><td>2013    </td><td>1       </td><td>1       </td><td>UA      </td><td>  3     </td><td>187     </td><td>1608    </td><td>515.9358</td></tr>\n",
       "\t<tr><td>2013    </td><td>1       </td><td>1       </td><td>UA      </td><td>  1     </td><td>188     </td><td>1608    </td><td>513.1915</td></tr>\n",
       "\t<tr><td>2013    </td><td>1       </td><td>1       </td><td>AA      </td><td> -5     </td><td>188     </td><td>1598    </td><td>510.0000</td></tr>\n",
       "\t<tr><td>2013    </td><td>1       </td><td>1       </td><td>AA      </td><td> 35     </td><td>188     </td><td>1598    </td><td>510.0000</td></tr>\n",
       "\t<tr><td>2013    </td><td>1       </td><td>1       </td><td>DL      </td><td> -4     </td><td>188     </td><td>1598    </td><td>510.0000</td></tr>\n",
       "\t<tr><td>2013    </td><td>1       </td><td>1       </td><td>B6      </td><td> -3     </td><td>186     </td><td>1576    </td><td>508.3871</td></tr>\n",
       "\t<tr><td>2013    </td><td>1       </td><td>1       </td><td>B6      </td><td>  8     </td><td>189     </td><td>1598    </td><td>507.3016</td></tr>\n",
       "\t<tr><td>2013    </td><td>1       </td><td>1       </td><td>B6      </td><td>  5     </td><td>189     </td><td>1598    </td><td>507.3016</td></tr>\n",
       "\t<tr><td>2013    </td><td>1       </td><td>1       </td><td>B6      </td><td> -3     </td><td>191     </td><td>1608    </td><td>505.1309</td></tr>\n",
       "\t<tr><td>2013    </td><td>1       </td><td>1       </td><td>AA      </td><td> -9     </td><td>190     </td><td>1598    </td><td>504.6316</td></tr>\n",
       "\t<tr><td>2013    </td><td>1       </td><td>1       </td><td>B6      </td><td> -4     </td><td>190     </td><td>1598    </td><td>504.6316</td></tr>\n",
       "\t<tr><td>2013    </td><td>1       </td><td>1       </td><td>B6      </td><td>  0     </td><td>190     </td><td>1598    </td><td>504.6316</td></tr>\n",
       "\t<tr><td>2013    </td><td>1       </td><td>1       </td><td>B6      </td><td>-12     </td><td>191     </td><td>1598    </td><td>501.9895</td></tr>\n",
       "\t<tr><td>2013    </td><td>1       </td><td>1       </td><td>AA      </td><td> -2     </td><td>192     </td><td>1598    </td><td>499.3750</td></tr>\n",
       "\t<tr><td>2013    </td><td>1       </td><td>1       </td><td>DL      </td><td>  8     </td><td>192     </td><td>1598    </td><td>499.3750</td></tr>\n",
       "\t<tr><td>2013    </td><td>1       </td><td>1       </td><td>B6      </td><td> -6     </td><td>195     </td><td>1617    </td><td>497.5385</td></tr>\n",
       "\t<tr><td>2013    </td><td>1       </td><td>1       </td><td>B6      </td><td>122     </td><td>193     </td><td>1598    </td><td>496.7876</td></tr>\n",
       "\t<tr><td>2013    </td><td>1       </td><td>1       </td><td>UA      </td><td>  9     </td><td>192     </td><td>1585    </td><td>495.3125</td></tr>\n",
       "\t<tr><td>2013    </td><td>1       </td><td>1       </td><td>UA      </td><td> -6     </td><td>199     </td><td>1608    </td><td>484.8241</td></tr>\n",
       "\t<tr><td>2013    </td><td>1       </td><td>1       </td><td>B6      </td><td> 15     </td><td>330     </td><td>2576    </td><td>468.3636</td></tr>\n",
       "\t<tr><td>2013    </td><td>1       </td><td>1       </td><td>B6      </td><td>116     </td><td>290     </td><td>2248    </td><td>465.1034</td></tr>\n",
       "\t<tr><td>2013    </td><td>1       </td><td>1       </td><td>B6      </td><td> -1     </td><td>334     </td><td>2569    </td><td>461.4970</td></tr>\n",
       "\t<tr><td>2013    </td><td>1       </td><td>1       </td><td>B6      </td><td> 12     </td><td>337     </td><td>2586    </td><td>460.4154</td></tr>\n",
       "\t<tr><td>⋮</td><td>⋮</td><td>⋮</td><td>⋮</td><td>⋮</td><td>⋮</td><td>⋮</td><td>⋮</td></tr>\n",
       "\t<tr><td>2013    </td><td>1       </td><td>1       </td><td>9E      </td><td> -8     </td><td>66      </td><td> 264    </td><td>240.0000</td></tr>\n",
       "\t<tr><td>2013    </td><td>1       </td><td>1       </td><td>EV      </td><td> 64     </td><td>53      </td><td> 212    </td><td>240.0000</td></tr>\n",
       "\t<tr><td>2013    </td><td>1       </td><td>1       </td><td>EV      </td><td> 34     </td><td>36      </td><td> 143    </td><td>238.3333</td></tr>\n",
       "\t<tr><td>2013    </td><td>1       </td><td>1       </td><td>US      </td><td> -7     </td><td>54      </td><td> 214    </td><td>237.7778</td></tr>\n",
       "\t<tr><td>2013    </td><td>1       </td><td>1       </td><td>B6      </td><td>  7     </td><td>86      </td><td> 340    </td><td>237.2093</td></tr>\n",
       "\t<tr><td>2013    </td><td>1       </td><td>1       </td><td>MQ      </td><td>  3     </td><td>54      </td><td> 213    </td><td>236.6667</td></tr>\n",
       "\t<tr><td>2013    </td><td>1       </td><td>1       </td><td>B6      </td><td> -4     </td><td>87      </td><td> 340    </td><td>234.4828</td></tr>\n",
       "\t<tr><td>2013    </td><td>1       </td><td>1       </td><td>EV      </td><td> 10     </td><td>59      </td><td> 229    </td><td>232.8814</td></tr>\n",
       "\t<tr><td>2013    </td><td>1       </td><td>1       </td><td>B6      </td><td> -3     </td><td>54      </td><td> 209    </td><td>232.2222</td></tr>\n",
       "\t<tr><td>2013    </td><td>1       </td><td>1       </td><td>DL      </td><td> -6     </td><td>56      </td><td> 213    </td><td>228.2143</td></tr>\n",
       "\t<tr><td>2013    </td><td>1       </td><td>1       </td><td>MQ      </td><td> -5     </td><td>57      </td><td> 213    </td><td>224.2105</td></tr>\n",
       "\t<tr><td>2013    </td><td>1       </td><td>1       </td><td>MQ      </td><td> -5     </td><td>57      </td><td> 213    </td><td>224.2105</td></tr>\n",
       "\t<tr><td>2013    </td><td>1       </td><td>1       </td><td>9E      </td><td> -6     </td><td>57      </td><td> 209    </td><td>220.0000</td></tr>\n",
       "\t<tr><td>2013    </td><td>1       </td><td>1       </td><td>B6      </td><td> 12     </td><td>58      </td><td> 209    </td><td>216.2069</td></tr>\n",
       "\t<tr><td>2013    </td><td>1       </td><td>1       </td><td>MQ      </td><td>157     </td><td>60      </td><td> 213    </td><td>213.0000</td></tr>\n",
       "\t<tr><td>2013    </td><td>1       </td><td>1       </td><td>B6      </td><td> -4     </td><td>65      </td><td> 228    </td><td>210.4615</td></tr>\n",
       "\t<tr><td>2013    </td><td>1       </td><td>1       </td><td>9E      </td><td>  0     </td><td>30      </td><td>  94    </td><td>188.0000</td></tr>\n",
       "\t<tr><td>2013    </td><td>1       </td><td>1       </td><td>US      </td><td> -7     </td><td>32      </td><td>  96    </td><td>180.0000</td></tr>\n",
       "\t<tr><td>2013    </td><td>1       </td><td>1       </td><td>9E      </td><td>-10     </td><td>35      </td><td>  94    </td><td>161.1429</td></tr>\n",
       "\t<tr><td>2013    </td><td>1       </td><td>1       </td><td>9E      </td><td> 59     </td><td>NA      </td><td>1391    </td><td>      NA</td></tr>\n",
       "\t<tr><td>2013    </td><td>1       </td><td>1       </td><td>AA      </td><td> NA     </td><td>NA      </td><td>1389    </td><td>      NA</td></tr>\n",
       "\t<tr><td>2013    </td><td>1       </td><td>1       </td><td>AA      </td><td> NA     </td><td>NA      </td><td>1096    </td><td>      NA</td></tr>\n",
       "\t<tr><td>2013    </td><td>1       </td><td>1       </td><td>B6      </td><td> NA     </td><td>NA      </td><td>1069    </td><td>      NA</td></tr>\n",
       "\t<tr><td>2013    </td><td>1       </td><td>1       </td><td>EV      </td><td> 29     </td><td>NA      </td><td> 872    </td><td>      NA</td></tr>\n",
       "\t<tr><td>2013    </td><td>1       </td><td>1       </td><td>EV      </td><td> 22     </td><td>NA      </td><td>1215    </td><td>      NA</td></tr>\n",
       "\t<tr><td>2013    </td><td>1       </td><td>1       </td><td>EV      </td><td> 46     </td><td>NA      </td><td>1325    </td><td>      NA</td></tr>\n",
       "\t<tr><td>2013    </td><td>1       </td><td>1       </td><td>EV      </td><td> NA     </td><td>NA      </td><td> 416    </td><td>      NA</td></tr>\n",
       "\t<tr><td>2013    </td><td>1       </td><td>1       </td><td>MQ      </td><td> -5     </td><td>NA      </td><td>1147    </td><td>      NA</td></tr>\n",
       "\t<tr><td>2013    </td><td>1       </td><td>1       </td><td>MQ      </td><td> -5     </td><td>NA      </td><td>1147    </td><td>      NA</td></tr>\n",
       "\t<tr><td>2013    </td><td>1       </td><td>1       </td><td>UA      </td><td> 29     </td><td>NA      </td><td>2425    </td><td>      NA</td></tr>\n",
       "</tbody>\n",
       "</table>\n"
      ],
      "text/latex": [
       "\\begin{tabular}{r|llllllll}\n",
       " year & month & day & carrier & dep\\_delay & air\\_time & distance & speed\\\\\n",
       "\\hline\n",
       "\t 2013     & 1        & 1        & AA       &  59      & 184      & 1623     & 529.2391\\\\\n",
       "\t 2013     & 1        & 1        & B6       &   0      & 182      & 1598     & 526.8132\\\\\n",
       "\t 2013     & 1        & 1        & DL       &   0      & 182      & 1598     & 526.8132\\\\\n",
       "\t 2013     & 1        & 1        & B6       &  91      & 183      & 1598     & 523.9344\\\\\n",
       "\t 2013     & 1        & 1        & UA       &  -5      & 189      & 1634     & 518.7302\\\\\n",
       "\t 2013     & 1        & 1        & B6       &  -6      & 185      & 1598     & 518.2703\\\\\n",
       "\t 2013     & 1        & 1        & B6       &  -1      & 183      & 1576     & 516.7213\\\\\n",
       "\t 2013     & 1        & 1        & UA       &   3      & 187      & 1608     & 515.9358\\\\\n",
       "\t 2013     & 1        & 1        & UA       &   1      & 188      & 1608     & 513.1915\\\\\n",
       "\t 2013     & 1        & 1        & AA       &  -5      & 188      & 1598     & 510.0000\\\\\n",
       "\t 2013     & 1        & 1        & AA       &  35      & 188      & 1598     & 510.0000\\\\\n",
       "\t 2013     & 1        & 1        & DL       &  -4      & 188      & 1598     & 510.0000\\\\\n",
       "\t 2013     & 1        & 1        & B6       &  -3      & 186      & 1576     & 508.3871\\\\\n",
       "\t 2013     & 1        & 1        & B6       &   8      & 189      & 1598     & 507.3016\\\\\n",
       "\t 2013     & 1        & 1        & B6       &   5      & 189      & 1598     & 507.3016\\\\\n",
       "\t 2013     & 1        & 1        & B6       &  -3      & 191      & 1608     & 505.1309\\\\\n",
       "\t 2013     & 1        & 1        & AA       &  -9      & 190      & 1598     & 504.6316\\\\\n",
       "\t 2013     & 1        & 1        & B6       &  -4      & 190      & 1598     & 504.6316\\\\\n",
       "\t 2013     & 1        & 1        & B6       &   0      & 190      & 1598     & 504.6316\\\\\n",
       "\t 2013     & 1        & 1        & B6       & -12      & 191      & 1598     & 501.9895\\\\\n",
       "\t 2013     & 1        & 1        & AA       &  -2      & 192      & 1598     & 499.3750\\\\\n",
       "\t 2013     & 1        & 1        & DL       &   8      & 192      & 1598     & 499.3750\\\\\n",
       "\t 2013     & 1        & 1        & B6       &  -6      & 195      & 1617     & 497.5385\\\\\n",
       "\t 2013     & 1        & 1        & B6       & 122      & 193      & 1598     & 496.7876\\\\\n",
       "\t 2013     & 1        & 1        & UA       &   9      & 192      & 1585     & 495.3125\\\\\n",
       "\t 2013     & 1        & 1        & UA       &  -6      & 199      & 1608     & 484.8241\\\\\n",
       "\t 2013     & 1        & 1        & B6       &  15      & 330      & 2576     & 468.3636\\\\\n",
       "\t 2013     & 1        & 1        & B6       & 116      & 290      & 2248     & 465.1034\\\\\n",
       "\t 2013     & 1        & 1        & B6       &  -1      & 334      & 2569     & 461.4970\\\\\n",
       "\t 2013     & 1        & 1        & B6       &  12      & 337      & 2586     & 460.4154\\\\\n",
       "\t ⋮ & ⋮ & ⋮ & ⋮ & ⋮ & ⋮ & ⋮ & ⋮\\\\\n",
       "\t 2013     & 1        & 1        & 9E       &  -8      & 66       &  264     & 240.0000\\\\\n",
       "\t 2013     & 1        & 1        & EV       &  64      & 53       &  212     & 240.0000\\\\\n",
       "\t 2013     & 1        & 1        & EV       &  34      & 36       &  143     & 238.3333\\\\\n",
       "\t 2013     & 1        & 1        & US       &  -7      & 54       &  214     & 237.7778\\\\\n",
       "\t 2013     & 1        & 1        & B6       &   7      & 86       &  340     & 237.2093\\\\\n",
       "\t 2013     & 1        & 1        & MQ       &   3      & 54       &  213     & 236.6667\\\\\n",
       "\t 2013     & 1        & 1        & B6       &  -4      & 87       &  340     & 234.4828\\\\\n",
       "\t 2013     & 1        & 1        & EV       &  10      & 59       &  229     & 232.8814\\\\\n",
       "\t 2013     & 1        & 1        & B6       &  -3      & 54       &  209     & 232.2222\\\\\n",
       "\t 2013     & 1        & 1        & DL       &  -6      & 56       &  213     & 228.2143\\\\\n",
       "\t 2013     & 1        & 1        & MQ       &  -5      & 57       &  213     & 224.2105\\\\\n",
       "\t 2013     & 1        & 1        & MQ       &  -5      & 57       &  213     & 224.2105\\\\\n",
       "\t 2013     & 1        & 1        & 9E       &  -6      & 57       &  209     & 220.0000\\\\\n",
       "\t 2013     & 1        & 1        & B6       &  12      & 58       &  209     & 216.2069\\\\\n",
       "\t 2013     & 1        & 1        & MQ       & 157      & 60       &  213     & 213.0000\\\\\n",
       "\t 2013     & 1        & 1        & B6       &  -4      & 65       &  228     & 210.4615\\\\\n",
       "\t 2013     & 1        & 1        & 9E       &   0      & 30       &   94     & 188.0000\\\\\n",
       "\t 2013     & 1        & 1        & US       &  -7      & 32       &   96     & 180.0000\\\\\n",
       "\t 2013     & 1        & 1        & 9E       & -10      & 35       &   94     & 161.1429\\\\\n",
       "\t 2013     & 1        & 1        & 9E       &  59      & NA       & 1391     &       NA\\\\\n",
       "\t 2013     & 1        & 1        & AA       &  NA      & NA       & 1389     &       NA\\\\\n",
       "\t 2013     & 1        & 1        & AA       &  NA      & NA       & 1096     &       NA\\\\\n",
       "\t 2013     & 1        & 1        & B6       &  NA      & NA       & 1069     &       NA\\\\\n",
       "\t 2013     & 1        & 1        & EV       &  29      & NA       &  872     &       NA\\\\\n",
       "\t 2013     & 1        & 1        & EV       &  22      & NA       & 1215     &       NA\\\\\n",
       "\t 2013     & 1        & 1        & EV       &  46      & NA       & 1325     &       NA\\\\\n",
       "\t 2013     & 1        & 1        & EV       &  NA      & NA       &  416     &       NA\\\\\n",
       "\t 2013     & 1        & 1        & MQ       &  -5      & NA       & 1147     &       NA\\\\\n",
       "\t 2013     & 1        & 1        & MQ       &  -5      & NA       & 1147     &       NA\\\\\n",
       "\t 2013     & 1        & 1        & UA       &  29      & NA       & 2425     &       NA\\\\\n",
       "\\end{tabular}\n"
      ],
      "text/markdown": [
       "\n",
       "year | month | day | carrier | dep_delay | air_time | distance | speed | \n",
       "|---|---|---|---|---|---|---|---|---|---|---|---|---|---|---|---|---|---|---|---|---|---|---|---|---|---|---|---|---|---|---|---|---|---|---|---|---|---|---|---|---|---|---|---|---|---|---|---|---|---|---|---|---|---|---|---|---|---|---|---|---|\n",
       "| 2013     | 1        | 1        | AA       |  59      | 184      | 1623     | 529.2391 | \n",
       "| 2013     | 1        | 1        | B6       |   0      | 182      | 1598     | 526.8132 | \n",
       "| 2013     | 1        | 1        | DL       |   0      | 182      | 1598     | 526.8132 | \n",
       "| 2013     | 1        | 1        | B6       |  91      | 183      | 1598     | 523.9344 | \n",
       "| 2013     | 1        | 1        | UA       |  -5      | 189      | 1634     | 518.7302 | \n",
       "| 2013     | 1        | 1        | B6       |  -6      | 185      | 1598     | 518.2703 | \n",
       "| 2013     | 1        | 1        | B6       |  -1      | 183      | 1576     | 516.7213 | \n",
       "| 2013     | 1        | 1        | UA       |   3      | 187      | 1608     | 515.9358 | \n",
       "| 2013     | 1        | 1        | UA       |   1      | 188      | 1608     | 513.1915 | \n",
       "| 2013     | 1        | 1        | AA       |  -5      | 188      | 1598     | 510.0000 | \n",
       "| 2013     | 1        | 1        | AA       |  35      | 188      | 1598     | 510.0000 | \n",
       "| 2013     | 1        | 1        | DL       |  -4      | 188      | 1598     | 510.0000 | \n",
       "| 2013     | 1        | 1        | B6       |  -3      | 186      | 1576     | 508.3871 | \n",
       "| 2013     | 1        | 1        | B6       |   8      | 189      | 1598     | 507.3016 | \n",
       "| 2013     | 1        | 1        | B6       |   5      | 189      | 1598     | 507.3016 | \n",
       "| 2013     | 1        | 1        | B6       |  -3      | 191      | 1608     | 505.1309 | \n",
       "| 2013     | 1        | 1        | AA       |  -9      | 190      | 1598     | 504.6316 | \n",
       "| 2013     | 1        | 1        | B6       |  -4      | 190      | 1598     | 504.6316 | \n",
       "| 2013     | 1        | 1        | B6       |   0      | 190      | 1598     | 504.6316 | \n",
       "| 2013     | 1        | 1        | B6       | -12      | 191      | 1598     | 501.9895 | \n",
       "| 2013     | 1        | 1        | AA       |  -2      | 192      | 1598     | 499.3750 | \n",
       "| 2013     | 1        | 1        | DL       |   8      | 192      | 1598     | 499.3750 | \n",
       "| 2013     | 1        | 1        | B6       |  -6      | 195      | 1617     | 497.5385 | \n",
       "| 2013     | 1        | 1        | B6       | 122      | 193      | 1598     | 496.7876 | \n",
       "| 2013     | 1        | 1        | UA       |   9      | 192      | 1585     | 495.3125 | \n",
       "| 2013     | 1        | 1        | UA       |  -6      | 199      | 1608     | 484.8241 | \n",
       "| 2013     | 1        | 1        | B6       |  15      | 330      | 2576     | 468.3636 | \n",
       "| 2013     | 1        | 1        | B6       | 116      | 290      | 2248     | 465.1034 | \n",
       "| 2013     | 1        | 1        | B6       |  -1      | 334      | 2569     | 461.4970 | \n",
       "| 2013     | 1        | 1        | B6       |  12      | 337      | 2586     | 460.4154 | \n",
       "| ⋮ | ⋮ | ⋮ | ⋮ | ⋮ | ⋮ | ⋮ | ⋮ | \n",
       "| 2013     | 1        | 1        | 9E       |  -8      | 66       |  264     | 240.0000 | \n",
       "| 2013     | 1        | 1        | EV       |  64      | 53       |  212     | 240.0000 | \n",
       "| 2013     | 1        | 1        | EV       |  34      | 36       |  143     | 238.3333 | \n",
       "| 2013     | 1        | 1        | US       |  -7      | 54       |  214     | 237.7778 | \n",
       "| 2013     | 1        | 1        | B6       |   7      | 86       |  340     | 237.2093 | \n",
       "| 2013     | 1        | 1        | MQ       |   3      | 54       |  213     | 236.6667 | \n",
       "| 2013     | 1        | 1        | B6       |  -4      | 87       |  340     | 234.4828 | \n",
       "| 2013     | 1        | 1        | EV       |  10      | 59       |  229     | 232.8814 | \n",
       "| 2013     | 1        | 1        | B6       |  -3      | 54       |  209     | 232.2222 | \n",
       "| 2013     | 1        | 1        | DL       |  -6      | 56       |  213     | 228.2143 | \n",
       "| 2013     | 1        | 1        | MQ       |  -5      | 57       |  213     | 224.2105 | \n",
       "| 2013     | 1        | 1        | MQ       |  -5      | 57       |  213     | 224.2105 | \n",
       "| 2013     | 1        | 1        | 9E       |  -6      | 57       |  209     | 220.0000 | \n",
       "| 2013     | 1        | 1        | B6       |  12      | 58       |  209     | 216.2069 | \n",
       "| 2013     | 1        | 1        | MQ       | 157      | 60       |  213     | 213.0000 | \n",
       "| 2013     | 1        | 1        | B6       |  -4      | 65       |  228     | 210.4615 | \n",
       "| 2013     | 1        | 1        | 9E       |   0      | 30       |   94     | 188.0000 | \n",
       "| 2013     | 1        | 1        | US       |  -7      | 32       |   96     | 180.0000 | \n",
       "| 2013     | 1        | 1        | 9E       | -10      | 35       |   94     | 161.1429 | \n",
       "| 2013     | 1        | 1        | 9E       |  59      | NA       | 1391     |       NA | \n",
       "| 2013     | 1        | 1        | AA       |  NA      | NA       | 1389     |       NA | \n",
       "| 2013     | 1        | 1        | AA       |  NA      | NA       | 1096     |       NA | \n",
       "| 2013     | 1        | 1        | B6       |  NA      | NA       | 1069     |       NA | \n",
       "| 2013     | 1        | 1        | EV       |  29      | NA       |  872     |       NA | \n",
       "| 2013     | 1        | 1        | EV       |  22      | NA       | 1215     |       NA | \n",
       "| 2013     | 1        | 1        | EV       |  46      | NA       | 1325     |       NA | \n",
       "| 2013     | 1        | 1        | EV       |  NA      | NA       |  416     |       NA | \n",
       "| 2013     | 1        | 1        | MQ       |  -5      | NA       | 1147     |       NA | \n",
       "| 2013     | 1        | 1        | MQ       |  -5      | NA       | 1147     |       NA | \n",
       "| 2013     | 1        | 1        | UA       |  29      | NA       | 2425     |       NA | \n",
       "\n",
       "\n"
      ],
      "text/plain": [
       "    year month day carrier dep_delay air_time distance speed   \n",
       "1   2013 1     1   AA       59       184      1623     529.2391\n",
       "2   2013 1     1   B6        0       182      1598     526.8132\n",
       "3   2013 1     1   DL        0       182      1598     526.8132\n",
       "4   2013 1     1   B6       91       183      1598     523.9344\n",
       "5   2013 1     1   UA       -5       189      1634     518.7302\n",
       "6   2013 1     1   B6       -6       185      1598     518.2703\n",
       "7   2013 1     1   B6       -1       183      1576     516.7213\n",
       "8   2013 1     1   UA        3       187      1608     515.9358\n",
       "9   2013 1     1   UA        1       188      1608     513.1915\n",
       "10  2013 1     1   AA       -5       188      1598     510.0000\n",
       "11  2013 1     1   AA       35       188      1598     510.0000\n",
       "12  2013 1     1   DL       -4       188      1598     510.0000\n",
       "13  2013 1     1   B6       -3       186      1576     508.3871\n",
       "14  2013 1     1   B6        8       189      1598     507.3016\n",
       "15  2013 1     1   B6        5       189      1598     507.3016\n",
       "16  2013 1     1   B6       -3       191      1608     505.1309\n",
       "17  2013 1     1   AA       -9       190      1598     504.6316\n",
       "18  2013 1     1   B6       -4       190      1598     504.6316\n",
       "19  2013 1     1   B6        0       190      1598     504.6316\n",
       "20  2013 1     1   B6      -12       191      1598     501.9895\n",
       "21  2013 1     1   AA       -2       192      1598     499.3750\n",
       "22  2013 1     1   DL        8       192      1598     499.3750\n",
       "23  2013 1     1   B6       -6       195      1617     497.5385\n",
       "24  2013 1     1   B6      122       193      1598     496.7876\n",
       "25  2013 1     1   UA        9       192      1585     495.3125\n",
       "26  2013 1     1   UA       -6       199      1608     484.8241\n",
       "27  2013 1     1   B6       15       330      2576     468.3636\n",
       "28  2013 1     1   B6      116       290      2248     465.1034\n",
       "29  2013 1     1   B6       -1       334      2569     461.4970\n",
       "30  2013 1     1   B6       12       337      2586     460.4154\n",
       "⋮   ⋮    ⋮     ⋮   ⋮       ⋮         ⋮        ⋮        ⋮       \n",
       "813 2013 1     1   9E       -8       66        264     240.0000\n",
       "814 2013 1     1   EV       64       53        212     240.0000\n",
       "815 2013 1     1   EV       34       36        143     238.3333\n",
       "816 2013 1     1   US       -7       54        214     237.7778\n",
       "817 2013 1     1   B6        7       86        340     237.2093\n",
       "818 2013 1     1   MQ        3       54        213     236.6667\n",
       "819 2013 1     1   B6       -4       87        340     234.4828\n",
       "820 2013 1     1   EV       10       59        229     232.8814\n",
       "821 2013 1     1   B6       -3       54        209     232.2222\n",
       "822 2013 1     1   DL       -6       56        213     228.2143\n",
       "823 2013 1     1   MQ       -5       57        213     224.2105\n",
       "824 2013 1     1   MQ       -5       57        213     224.2105\n",
       "825 2013 1     1   9E       -6       57        209     220.0000\n",
       "826 2013 1     1   B6       12       58        209     216.2069\n",
       "827 2013 1     1   MQ      157       60        213     213.0000\n",
       "828 2013 1     1   B6       -4       65        228     210.4615\n",
       "829 2013 1     1   9E        0       30         94     188.0000\n",
       "830 2013 1     1   US       -7       32         96     180.0000\n",
       "831 2013 1     1   9E      -10       35         94     161.1429\n",
       "832 2013 1     1   9E       59       NA       1391           NA\n",
       "833 2013 1     1   AA       NA       NA       1389           NA\n",
       "834 2013 1     1   AA       NA       NA       1096           NA\n",
       "835 2013 1     1   B6       NA       NA       1069           NA\n",
       "836 2013 1     1   EV       29       NA        872           NA\n",
       "837 2013 1     1   EV       22       NA       1215           NA\n",
       "838 2013 1     1   EV       46       NA       1325           NA\n",
       "839 2013 1     1   EV       NA       NA        416           NA\n",
       "840 2013 1     1   MQ       -5       NA       1147           NA\n",
       "841 2013 1     1   MQ       -5       NA       1147           NA\n",
       "842 2013 1     1   UA       29       NA       2425           NA"
      ]
     },
     "metadata": {},
     "output_type": "display_data"
    }
   ],
   "source": [
    "collect(c4)"
   ]
  },
  {
   "cell_type": "markdown",
   "metadata": {},
   "source": [
    "## Understanding the Operations performed by dplyr\n",
    "Since we do not deal with SQL directly when using dplyr, we don't really know what query is dplyr sending to the database to fetch our results. We can get this information when we use the explain function in dplyr. This function displays the entire SQL command that it executes on the database to fetch our results. \n",
    "In the example below, I am fetching the SQL commands for the query c4 that I built above."
   ]
  },
  {
   "cell_type": "code",
   "execution_count": 15,
   "metadata": {
    "collapsed": false
   },
   "outputs": [
    {
     "name": "stderr",
     "output_type": "stream",
     "text": [
      "<SQL>\n",
      "SELECT *\n",
      "FROM (SELECT `year`, `month`, `day`, `carrier`, `dep_delay`, `air_time`, `distance`, `distance` / `air_time` * 60.0 AS `speed`\n",
      "FROM (SELECT `year` AS `year`, `month` AS `month`, `day` AS `day`, `carrier` AS `carrier`, `dep_delay` AS `dep_delay`, `air_time` AS `air_time`, `distance` AS `distance`\n",
      "FROM (SELECT *\n",
      "FROM `flights`\n",
      "WHERE ((`year` = 2013.0) AND (`month` = 1.0) AND (`day` = 1.0)))))\n",
      "ORDER BY `speed` DESC, `year`, `month`, `day`, `carrier`\n",
      "\n",
      "\n",
      "<PLAN>\n",
      "   addr       opcode p1    p2 p3              p4 p5 comment\n",
      "1     0         Init  0    47  0                 00      NA\n",
      "2     1   SorterOpen  4    14  0 k(5,-B,B,B,B,B) 00      NA\n",
      "3     2     OpenRead  3     2  0              19 00      NA\n",
      "4     3     OpenRead  5 22527  0        k(4,,,,) 02      NA\n",
      "5     4         Real  0     1  0            2013 00      NA\n",
      "6     5         Real  0     2  0               1 00      NA\n",
      "7     6         Real  0     3  0               1 00      NA\n",
      "8     7     Affinity  1     3  0             DDD 00      NA\n",
      "9     8       SeekGE  5    31  1               3 00      NA\n",
      "10    9        IdxGT  5    31  1               3 00      NA\n",
      "11   10         Seek  5     0  3                 00      NA\n",
      "12   11       Column  5     0  9                 00      NA\n",
      "13   12       Column  5     1 10                 00      NA\n",
      "14   13       Column  5     2 11                 00      NA\n",
      "15   14       Column  3     9 12                 00      NA\n",
      "16   15       Column  3     5 13                 00      NA\n",
      "17   16 RealAffinity 13     0  0                 00      NA\n",
      "18   17       Column  3    14 14                 00      NA\n",
      "19   18 RealAffinity 14     0  0                 00      NA\n",
      "20   19       Column  3    15 15                 00      NA\n",
      "21   20 RealAffinity 15     0  0                 00      NA\n",
      "22   21       Divide 14    15 17                 00      NA\n",
      "23   22     Multiply 19    17 16                 00      NA\n",
      "24   23         Copy 16     4  0                 00      NA\n",
      "25   24         Copy  9     5  0                 00      NA\n",
      "26   25         Copy 10     6  0                 00      NA\n",
      "27   26         Copy 11     7  0                 00      NA\n",
      "28   27         Copy 12     8  0                 00      NA\n",
      "29   28   MakeRecord  4    13 20                 00      NA\n",
      "30   29 SorterInsert  4    20  0                 00      NA\n",
      "31   30         Next  5     9  1                 00      NA\n",
      "32   31        Close  3     0  0                 00      NA\n",
      "33   32        Close  5     0  0                 00      NA\n",
      "34   33   OpenPseudo  6    21 14                 00      NA\n",
      "35   34   SorterSort  4    46  0                 00      NA\n",
      "36   35   SorterData  4    21  6                 00      NA\n",
      "37   36       Column  6     5  9                 00      NA\n",
      "38   37       Column  6     6 10                 00      NA\n",
      "39   38       Column  6     7 11                 00      NA\n",
      "40   39       Column  6     8 12                 00      NA\n",
      "41   40       Column  6     9 13                 00      NA\n",
      "42   41       Column  6    10 14                 00      NA\n",
      "43   42       Column  6    11 15                 00      NA\n",
      "44   43       Column  6    12 16                 00      NA\n",
      "45   44    ResultRow  9     8  0                 00      NA\n",
      "46   45   SorterNext  4    35  0                 00      NA\n",
      "47   46         Halt  0     0  0                 00      NA\n",
      "48   47  Transaction  0     0  5               0 01      NA\n",
      "49   48    TableLock  0     2  0         flights 00      NA\n",
      "50   49         Real  0    19  0              60 00      NA\n",
      "51   50         Goto  0     1  0                 00      NA\n"
     ]
    }
   ],
   "source": [
    "explain(c4)"
   ]
  }
 ],
 "metadata": {
  "kernelspec": {
   "display_name": "R",
   "language": "R",
   "name": "ir"
  },
  "language_info": {
   "codemirror_mode": "r",
   "file_extension": ".r",
   "mimetype": "text/x-r-source",
   "name": "R",
   "pygments_lexer": "r",
   "version": "3.3.2"
  }
 },
 "nbformat": 4,
 "nbformat_minor": 2
}
