{
 "cells": [
  {
   "cell_type": "markdown",
   "metadata": {},
   "source": [
    "# Extracting and Repurposing Data\n",
    "The aim of this Activity is to extract the data from a European Soccer Database and repurpose it for a question-answering system just like the Amazon Alexa. I am using the Dplyr library in R to reach this goal."
   ]
  },
  {
   "cell_type": "code",
   "execution_count": 20,
   "metadata": {
    "collapsed": false,
    "scrolled": true
   },
   "outputs": [],
   "source": [
    "library(dplyr)"
   ]
  },
  {
   "cell_type": "markdown",
   "metadata": {},
   "source": [
    "## Initializing Database and required tables\n",
    "For the purpose of this activity, I will need to connect to a database and read the player, player attributes, team, team attributes and match tables."
   ]
  },
  {
   "cell_type": "code",
   "execution_count": 2,
   "metadata": {
    "collapsed": false
   },
   "outputs": [],
   "source": [
    "db <- src_sqlite(path = \"database.sqlite\", create = F)"
   ]
  },
  {
   "cell_type": "code",
   "execution_count": 3,
   "metadata": {
    "collapsed": false,
    "scrolled": true
   },
   "outputs": [],
   "source": [
    "player_tbl <- tbl(src = db, \"player\")\n",
    "player_attr_tbl <- tbl(db, \"player_attributes\")\n",
    "team_tbl <- tbl(db, \"team\")\n",
    "team_attr_tbl <- tbl(db, \"team_attributes\")\n",
    "match_tbl <- tbl(db, \"match\")"
   ]
  },
  {
   "cell_type": "markdown",
   "metadata": {},
   "source": [
    "## Selecting the latest Date for every player\n",
    "Since all players have more than one entry for different dates, it is essential to remove the unwanted data by selecting only the latest rating for each of the player."
   ]
  },
  {
   "cell_type": "code",
   "execution_count": 4,
   "metadata": {
    "collapsed": false
   },
   "outputs": [],
   "source": [
    "player_tbl_grouped <- group_by(player_attr_tbl, player_api_id)\n",
    "player_tbl_single_date <- summarise(player_tbl_grouped, date = max(date))\n",
    "player_with_date <- inner_join(player_tbl, player_tbl_single_date, by =\"player_api_id\")\n",
    "all_player_tbl <- inner_join(player_with_date, player_attr_tbl, by = c(\"player_api_id\", \"date\"), copy = F)"
   ]
  },
  {
   "cell_type": "markdown",
   "metadata": {},
   "source": [
    "## Calculating the GK Rating for each Player"
   ]
  },
  {
   "cell_type": "code",
   "execution_count": 5,
   "metadata": {
    "collapsed": false
   },
   "outputs": [],
   "source": [
    "all_player_tbl <- mutate(all_player_tbl, gk_rating = gk_diving + gk_handling + gk_kicking + gk_positioning + gk_reflexes)"
   ]
  },
  {
   "cell_type": "markdown",
   "metadata": {},
   "source": [
    "## Selecting only the required columns\n",
    "Since we need only a few columns from the entire data set, I am selecting them here."
   ]
  },
  {
   "cell_type": "code",
   "execution_count": 6,
   "metadata": {
    "collapsed": false
   },
   "outputs": [],
   "source": [
    "all_player_tbl <- select(all_player_tbl, player_api_id, player_name, overall_rating, date, gk_rating)"
   ]
  },
  {
   "cell_type": "markdown",
   "metadata": {
    "collapsed": false
   },
   "source": [
    "## Finding Number of Appearances of every Player\n",
    "For finding the number of appearances of every player, I have queried the 22 different columns in the match table using which I got the appearance of every player in every match."
   ]
  },
  {
   "cell_type": "code",
   "execution_count": 7,
   "metadata": {
    "collapsed": true
   },
   "outputs": [],
   "source": [
    "home_player1 <- select(collect(count(group_by(match_tbl, home_player_1))), player_api_id = home_player_1, appearance = n)\n",
    "home_player2 <- select(collect(count(group_by(match_tbl, home_player_2))), player_api_id = home_player_2, appearance = n)\n",
    "home_player3 <- select(collect(count(group_by(match_tbl, home_player_3))), player_api_id = home_player_3, appearance = n)\n",
    "home_player4 <- select(collect(count(group_by(match_tbl, home_player_4))), player_api_id = home_player_4, appearance = n)\n",
    "home_player5 <- select(collect(count(group_by(match_tbl, home_player_5))), player_api_id = home_player_5, appearance = n)\n",
    "home_player6 <- select(collect(count(group_by(match_tbl, home_player_6))), player_api_id = home_player_6, appearance = n)\n",
    "home_player7 <- select(collect(count(group_by(match_tbl, home_player_7))), player_api_id = home_player_7, appearance = n)\n",
    "home_player8 <- select(collect(count(group_by(match_tbl, home_player_8))), player_api_id = home_player_8, appearance = n)\n",
    "home_player9 <- select(collect(count(group_by(match_tbl, home_player_9))), player_api_id = home_player_9, appearance = n)\n",
    "home_player10 <- select(collect(count(group_by(match_tbl, home_player_10))), player_api_id = home_player_10, appearance = n)\n",
    "home_player11 <- select(collect(count(group_by(match_tbl, home_player_11))), player_api_id = home_player_11, appearance = n)\n",
    "\n",
    "away_player1 <- select(collect(count(group_by(match_tbl, away_player_1))), player_api_id = away_player_1, appearance = n)\n",
    "away_player2 <- select(collect(count(group_by(match_tbl, away_player_2))), player_api_id = away_player_2, appearance = n)\n",
    "away_player3 <- select(collect(count(group_by(match_tbl, away_player_3))), player_api_id = away_player_3, appearance = n)\n",
    "away_player4 <- select(collect(count(group_by(match_tbl, away_player_4))), player_api_id = away_player_4, appearance = n)\n",
    "away_player5 <- select(collect(count(group_by(match_tbl, away_player_5))), player_api_id = away_player_5, appearance = n)\n",
    "away_player6 <- select(collect(count(group_by(match_tbl, away_player_6))), player_api_id = away_player_6, appearance = n)\n",
    "away_player7 <- select(collect(count(group_by(match_tbl, away_player_7))), player_api_id = away_player_7, appearance = n)\n",
    "away_player8 <- select(collect(count(group_by(match_tbl, away_player_8))), player_api_id = away_player_8, appearance = n)\n",
    "away_player9 <- select(collect(count(group_by(match_tbl, away_player_9))), player_api_id = away_player_9, appearance = n)\n",
    "away_player10 <- select(collect(count(group_by(match_tbl, away_player_10))), player_api_id = away_player_10, appearance = n)\n",
    "away_player11 <- select(collect(count(group_by(match_tbl, away_player_11))), player_api_id = away_player_11, appearance = n)"
   ]
  },
  {
   "cell_type": "markdown",
   "metadata": {},
   "source": [
    "## Combining all the Results into one and then calculating the total appearance\n",
    "After combining all the results into one, I am joining it with the all_player_tbl which stores all the required data"
   ]
  },
  {
   "cell_type": "code",
   "execution_count": 8,
   "metadata": {
    "collapsed": true
   },
   "outputs": [],
   "source": [
    "home_players <- rbind(home_player1, home_player2, home_player3, home_player4, home_player5, home_player6, home_player7, home_player8, home_player9, home_player10, home_player11)\n",
    "away_players <- rbind(away_player1, away_player2, away_player3, away_player4, away_player5, away_player6, away_player7, away_player8, away_player9, away_player10, away_player11)\n",
    "\n",
    "player_appearance <- rbind(home_players,away_players)\n",
    "player_appearance <- distinct(mutate(group_by(player_appearance, player_api_id), appearance = sum(appearance)), player_api_id, .keep_all = T)\n",
    "player_appearance <- filter(player_appearance, player_api_id != \"NA\")"
   ]
  },
  {
   "cell_type": "code",
   "execution_count": 9,
   "metadata": {
    "collapsed": false
   },
   "outputs": [],
   "source": [
    "all_player_tbl <- inner_join(all_player_tbl, player_appearance, by =\"player_api_id\", copy = T)"
   ]
  },
  {
   "cell_type": "markdown",
   "metadata": {},
   "source": [
    "## Calculating the Number of leagues a Player has played in"
   ]
  },
  {
   "cell_type": "code",
   "execution_count": 10,
   "metadata": {
    "collapsed": true
   },
   "outputs": [],
   "source": [
    "home_league_1 <- collect(group_by(match_tbl, home_player_1))\n",
    "home_league_2 <- collect(group_by(match_tbl, home_player_2))\n",
    "home_league_3 <- collect(group_by(match_tbl, home_player_3))\n",
    "home_league_4 <- collect(group_by(match_tbl, home_player_4))\n",
    "home_league_5 <- collect(group_by(match_tbl, home_player_5))\n",
    "home_league_6 <- collect(group_by(match_tbl, home_player_6))\n",
    "home_league_7 <- collect(group_by(match_tbl, home_player_7))\n",
    "home_league_8 <- collect(group_by(match_tbl, home_player_8))\n",
    "home_league_9 <- collect(group_by(match_tbl, home_player_9))\n",
    "home_league_10 <- collect(group_by(match_tbl, home_player_10))\n",
    "home_league_11 <- collect(group_by(match_tbl, home_player_11))\n",
    "\n",
    "away_league_1 <- collect(group_by(match_tbl, away_player_1))\n",
    "away_league_2 <- collect(group_by(match_tbl, away_player_2))\n",
    "away_league_3 <- collect(group_by(match_tbl, away_player_3))\n",
    "away_league_4 <- collect(group_by(match_tbl, away_player_4))\n",
    "away_league_5 <- collect(group_by(match_tbl, away_player_5))\n",
    "away_league_6 <- collect(group_by(match_tbl, away_player_6))\n",
    "away_league_7 <- collect(group_by(match_tbl, away_player_7))\n",
    "away_league_8 <- collect(group_by(match_tbl, away_player_8))\n",
    "away_league_9 <- collect(group_by(match_tbl, away_player_9))\n",
    "away_league_10 <- collect(group_by(match_tbl, away_player_10))\n",
    "away_league_11 <- collect(group_by(match_tbl, away_player_11))"
   ]
  },
  {
   "cell_type": "markdown",
   "metadata": {},
   "source": [
    "## Selecting all the required columns\n",
    "For each of the 22 queries for the leagues, collecting the required columns, such as player_api_id and the league_id to process later"
   ]
  },
  {
   "cell_type": "code",
   "execution_count": 11,
   "metadata": {
    "collapsed": false
   },
   "outputs": [],
   "source": [
    "home_league_1 <- select(home_league_1, player_api_id = home_player_1, league_id)\n",
    "home_league_2 <- select(home_league_2, player_api_id = home_player_2, league_id)\n",
    "home_league_3 <- select(home_league_3, player_api_id = home_player_3, league_id)\n",
    "home_league_4 <- select(home_league_4, player_api_id = home_player_4, league_id)\n",
    "home_league_5 <- select(home_league_5, player_api_id = home_player_5, league_id)\n",
    "home_league_6 <- select(home_league_6, player_api_id = home_player_6, league_id)\n",
    "home_league_7 <- select(home_league_7, player_api_id = home_player_7, league_id)\n",
    "home_league_8 <- select(home_league_8, player_api_id = home_player_8, league_id)\n",
    "home_league_9 <- select(home_league_9, player_api_id = home_player_9, league_id)\n",
    "home_league_10 <- select(home_league_10, player_api_id = home_player_10, league_id)\n",
    "home_league_11 <- select(home_league_11, player_api_id = home_player_11, league_id)\n",
    "\n",
    "away_league_1 <- select(away_league_1, player_api_id = away_player_1, league_id)\n",
    "away_league_2 <- select(away_league_2, player_api_id = away_player_2, league_id)\n",
    "away_league_3 <- select(away_league_3, player_api_id = away_player_3, league_id)\n",
    "away_league_4 <- select(away_league_4, player_api_id = away_player_4, league_id)\n",
    "away_league_5 <- select(away_league_5, player_api_id = away_player_5, league_id)\n",
    "away_league_6 <- select(away_league_6, player_api_id = away_player_6, league_id)\n",
    "away_league_7 <- select(away_league_7, player_api_id = away_player_7, league_id)\n",
    "away_league_8 <- select(away_league_8, player_api_id = away_player_8, league_id)\n",
    "away_league_9 <- select(away_league_9, player_api_id = away_player_9, league_id)\n",
    "away_league_10 <- select(away_league_10, player_api_id = away_player_10, league_id)\n",
    "away_league_11 <- select(away_league_11, player_api_id = away_player_11, league_id)"
   ]
  },
  {
   "cell_type": "markdown",
   "metadata": {},
   "source": [
    "## Combining all the Leagues for every player\n",
    "Combining the leagues for every player and then counting the distinct leagues that the player has played in. After that, it is again combined with the all_player_tbl which stores all the required player data."
   ]
  },
  {
   "cell_type": "code",
   "execution_count": 12,
   "metadata": {
    "collapsed": true
   },
   "outputs": [],
   "source": [
    "home_leagues <- rbind(home_league_1, home_league_2, home_league_3, home_league_4, home_league_5, home_league_6, home_league_7, home_league_8, home_league_9, home_league_10, home_league_11)\n",
    "away_leagues <- rbind(away_league_1, away_league_2, away_league_3, away_league_4, away_league_5, away_league_6, away_league_7, away_league_8, away_league_9, away_league_10, away_league_11)\n",
    "player_leagues <- rbind(home_leagues, away_leagues)\n",
    "\n",
    "player_leagues_counted <- select(count(distinct(player_leagues, league_id, .keep_all = T)), player_api_id, leagues = n)\n",
    "all_player_tbl <- inner_join(all_player_tbl, player_leagues_counted, by =\"player_api_id\", copy = T)\n"
   ]
  },
  {
   "cell_type": "markdown",
   "metadata": {},
   "source": [
    "## Writing Data to CSV File\n",
    "Writing the all_player_tbl as a data frame into a CSV file."
   ]
  },
  {
   "cell_type": "code",
   "execution_count": 13,
   "metadata": {
    "collapsed": true
   },
   "outputs": [],
   "source": [
    "all_player_df <- collect(all_player_tbl)\n",
    "outputFilename <- \"player.csv\"\n",
    "write.csv(all_player_df, outputFilename, row.names = FALSE)"
   ]
  },
  {
   "cell_type": "markdown",
   "metadata": {},
   "source": [
    "## Working with the Team Table\n",
    "Working with the team and team attributes table to extract the required data\n",
    "* Selecting latest team rating and combining it with the team table"
   ]
  },
  {
   "cell_type": "code",
   "execution_count": 14,
   "metadata": {
    "collapsed": true
   },
   "outputs": [],
   "source": [
    "team_date <- group_by(team_attr_tbl, team_api_id)\n",
    "team_date <- summarise(team_date, date = max(date))\n",
    "team_with_date <- inner_join(team_tbl, team_date, by =\"team_api_id\")\n",
    "all_team_data <- inner_join(team_with_date, team_attr_tbl, by = c(\"team_api_id\", \"date\"), copy = F)"
   ]
  },
  {
   "cell_type": "markdown",
   "metadata": {},
   "source": [
    "## Calculating Team Parameters\n",
    "Calculating the team build up, chance creation and the defense scores for each and every team and after that selecting only the required columns from the entire table."
   ]
  },
  {
   "cell_type": "code",
   "execution_count": 15,
   "metadata": {
    "collapsed": false
   },
   "outputs": [],
   "source": [
    "all_team_data <- mutate(all_team_data, buildUp = buildUpPlaySpeed + buildUpPlayDribbling + buildUpPlayPassing, chanceCreation = chanceCreationPassing + chanceCreationCrossing + chanceCreationShooting, defence = defencePressure + defenceAggression + defenceTeamWidth)\n",
    "all_team_data <- mutate(all_team_data, chanceCreation = chanceCreationPassing + chanceCreationCrossing + chanceCreationShooting)\n",
    "all_team_data <- mutate(all_team_data, defense = defencePressure + defenceAggression + defenceTeamWidth)\n",
    "\n",
    "all_team_data <- select(all_team_data, team_api_id, team_long_name, buildUp, chanceCreation, defense)"
   ]
  },
  {
   "cell_type": "markdown",
   "metadata": {},
   "source": [
    "## Calculating Goals for every Team\n",
    "Calculating the number of goals that each and every team has made and then combining it with the all_team_data"
   ]
  },
  {
   "cell_type": "code",
   "execution_count": 16,
   "metadata": {
    "collapsed": false
   },
   "outputs": [],
   "source": [
    "match_home <- collect(group_by(select(match_tbl, team_api_id = home_team_api_id, home_team_goal),team_api_id))\n",
    "match_away <- collect(group_by(select(match_tbl, team_api_id = away_team_api_id, away_team_goal),team_api_id))"
   ]
  },
  {
   "cell_type": "code",
   "execution_count": 17,
   "metadata": {
    "collapsed": false
   },
   "outputs": [],
   "source": [
    "home_goal_sum <- mutate(match_home, goals = sum(home_team_goal))\n",
    "away_goal_sum <- mutate(match_away, goals = sum(away_team_goal))\n",
    "home_goal_sum <- within(home_goal_sum, rm(\"home_team_goal\"))\n",
    "away_goal_sum <- within(away_goal_sum, rm(\"away_team_goal\"))\n",
    "home_goal_sum <- unique(home_goal_sum)\n",
    "away_goal_sum <- unique(away_goal_sum)\n",
    "\n",
    "match_goal <- rbind(home_goal_sum, away_goal_sum)\n",
    "match_goal <- group_by(match_goal, team_api_id)\n",
    "match_goal <- unique(mutate(match_goal, goals = sum(goals)))"
   ]
  },
  {
   "cell_type": "code",
   "execution_count": 18,
   "metadata": {
    "collapsed": false
   },
   "outputs": [],
   "source": [
    "all_team_data <- collect(inner_join(all_team_data, match_goal, by = \"team_api_id\", copy = T))"
   ]
  },
  {
   "cell_type": "markdown",
   "metadata": {},
   "source": [
    "## Writing Data to CSV File\n",
    "Writing the all_player_tbl as a data frame into a CSV file."
   ]
  },
  {
   "cell_type": "code",
   "execution_count": 19,
   "metadata": {
    "collapsed": true
   },
   "outputs": [],
   "source": [
    "all_team_df <- collect(all_team_data)\n",
    "outputFilename <- \"team.csv\"\n",
    "write.csv(all_team_df, outputFilename, row.names = FALSE)"
   ]
  }
 ],
 "metadata": {
  "kernelspec": {
   "display_name": "R",
   "language": "R",
   "name": "ir"
  },
  "language_info": {
   "codemirror_mode": "r",
   "file_extension": ".r",
   "mimetype": "text/x-r-source",
   "name": "R",
   "pygments_lexer": "r",
   "version": "3.3.2"
  }
 },
 "nbformat": 4,
 "nbformat_minor": 2
}
